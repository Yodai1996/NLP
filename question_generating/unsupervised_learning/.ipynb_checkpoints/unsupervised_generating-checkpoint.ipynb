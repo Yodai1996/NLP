{
 "cells": [
  {
   "cell_type": "code",
   "execution_count": 196,
   "metadata": {
    "collapsed": true
   },
   "outputs": [],
   "source": [
    "import re, pickle, time\n",
    "from gensim.models.word2vec import Word2Vec\n",
    "import matplotlib.pyplot as plt\n",
    "import MeCab\n",
    "import numpy as np\n",
    "import pandas as pd\n",
    "import seaborn as sns\n",
    "from sklearn.model_selection import train_test_split\n",
    "from sklearn.utils import shuffle\n",
    "import torch\n",
    "from torch import nn, optim\n",
    "import torch.functional as F\n",
    "from torch.nn.utils.rnn import pack_padded_sequence, pad_packed_sequence"
   ]
  },
  {
   "cell_type": "code",
   "execution_count": 197,
   "metadata": {
    "collapsed": true
   },
   "outputs": [],
   "source": [
    "DATA_PATH=\"../../data/takken/\"\n",
    "device = torch.device('cuda' if torch.cuda.is_available() else 'cpu')\n",
    "amp=200"
   ]
  },
  {
   "cell_type": "code",
   "execution_count": 199,
   "metadata": {
    "collapsed": true
   },
   "outputs": [],
   "source": [
    "def remove_symbol(text):\n",
    "    '''\n",
    "    入力されたテキストから句読点などの不要な記号をいくつか削除する。\n",
    "    '''\n",
    "    remove_list = [\n",
    "        ',', '.', '-', '，', '\\ufeff', '\\u3000', '\\n']\n",
    "    for i, symbol in enumerate(remove_list):\n",
    "        text = text.replace(symbol, '')\n",
    "    return text\n",
    "\n",
    "def add_bos_eos(text):\n",
    "    return \"<BOS> \" + text + \" <EOS>\""
   ]
  },
  {
   "cell_type": "code",
   "execution_count": 198,
   "metadata": {
    "collapsed": true
   },
   "outputs": [],
   "source": [
    "class Vocab():\n",
    "    \n",
    "    bos_token=2\n",
    "    eos_token=3\n",
    "    \n",
    "    def __init__(self, min_count=0):\n",
    "        self.word2id_dict = dict({'<PAD>':0,  '<UNK>': 1, '<BOS>':Vocab.bos_token, '<EOS>':Vocab.eos_token})\n",
    "        self.id2word_dict = dict({i:word for word, i in self.word2id_dict.items()})\n",
    "        self.size = 4\n",
    "        self.min_count = min_count\n",
    "        self._i = 0  \n",
    "        \n",
    "    def __iter__(self):\n",
    "        return self\n",
    "    \n",
    "    def __next__(self):\n",
    "        if self._i==self.size:\n",
    "            self._i=0\n",
    "            raise StopIteration\n",
    "        word = self.id2word(self._i)\n",
    "        self._i += 1\n",
    "        return word\n",
    "        \n",
    "    def add(self, word):\n",
    "        key = self.word2id_dict.setdefault(word, self.size)\n",
    "        self.id2word_dict[key] = word\n",
    "        if key == self.size:\n",
    "            self.size += 1      \n",
    "            \n",
    "    def id2word(self, key):\n",
    "        return self.id2word_dict.get(key)\n",
    "    \n",
    "    def word2id(self, key):\n",
    "        return self.word2id_dict.get(key)\n",
    "    \n",
    "\n",
    "    \n",
    "#batch_size and datasize are global variables\n",
    "class DataLoader():\n",
    "    def __init__(self, inputs):\n",
    "        self.start_index = 0\n",
    "        self.inputs=inputs\n",
    "        \n",
    "    def __iter__(self):\n",
    "        return self\n",
    "    \n",
    "    def __next__(self):\n",
    "        if self.start_index >= datasize:\n",
    "            self.start_index =0 \n",
    "            raise StopIteration\n",
    "        minibatch = self.inputs[self.start_index: self.start_index+batch_size]\n",
    "        self.start_index += batch_size\n",
    "        \n",
    "        minibatch = torch.tensor(minibatch, dtype=torch.long, device=device)\n",
    "        return minibatch\n",
    "    \n",
    "    \n",
    "    \n",
    "def trainIters(model, criterion, dataloader, words, print_every=1, plot_every=5,):\n",
    "    optimizer = optim.Adam(model.parameters())\n",
    "    plot_losses = []\n",
    "    for epoch in range(epochs):\n",
    "        start=time.time()\n",
    "        train_loss=0\n",
    "        for batch_id, minibatch in enumerate(dataloader):\n",
    "            a   = minibatch[:,:-1][:]\n",
    "            generated = model(a)\n",
    "            hoge = minibatch[:,1:][:]\n",
    "\n",
    "            loss = criterion(generated, hoge)\n",
    "            optimizer.zero_grad()\n",
    "            loss.backward()\n",
    "            optimizer.step()\n",
    "            \n",
    "            train_loss += loss\n",
    "            if batch_id % print_every == 0:\n",
    "                elapsed_sec = time.time() - start\n",
    "                elapsed_min = int(elapsed_sec / 60)\n",
    "                elapsed_sec = elapsed_sec - 60 * elapsed_min\n",
    "                print(\n",
    "                    'Epoch:{} Batch:{}/{} Loss:{:.4f} Time:{}m{:.1f}s'.format(\n",
    "                        epoch, batch_id,\n",
    "                        int(datasize /\n",
    "                            batch_size),\n",
    "                        train_loss / (1 + batch_id), elapsed_min,\n",
    "                        elapsed_sec),\n",
    "                    end='\\r')\n",
    "                \n",
    "            if batch_id % plot_every:\n",
    "                plot_losses.append(loss)\n",
    "        print()            \n",
    "        \n",
    "    return plot_losses"
   ]
  },
  {
   "cell_type": "code",
   "execution_count": 215,
   "metadata": {
    "collapsed": true
   },
   "outputs": [],
   "source": [
    "class Rnn(nn.Module):\n",
    "    def __init__(self, latent_dim, embedding_matrix):\n",
    "        super(Rnn, self).__init__()\n",
    "        self.lstm          = nn.LSTM(input_size = embedding_dim, hidden_size = latent_dim)\n",
    "        self.linear        = nn.Linear(latent_dim, num_tokens)\n",
    "        embedding_matrix   = torch.from_numpy(embedding_matrix)\n",
    "        self.embed         = nn.Embedding(num_tokens, embedding_dim=embedding_dim, padding_idx=0, _weight=embedding_matrix)\n",
    "        \n",
    "    def forward(self, inputs):\n",
    "        #以下，maxlenはその値より-1したものを表す\n",
    "        \n",
    "        #inputs = (batch, maxlen)\n",
    "        #inputsはindexに対応\n",
    "        batch_size     = inputs.shape[0]\n",
    "        embed          = self.embed(inputs) #(batch, maxlen, embedding_dim)\n",
    "        \n",
    "        #make random states\n",
    "        h=torch.rand(1,batch_size,latent_dim)*amp\n",
    "        c=torch.rand(1,batch_size,latent_dim)*amp\n",
    "        states = (h.cuda(), c.cuda())\n",
    "        \n",
    "        outputs, hidden = self.lstm(\n",
    "            embed.permute(1,0,2), states\n",
    "        ) #(maxlen, batch, latent_dim)\n",
    "        outputs = self.linear(outputs)  #(maxlen, batch, num_tokens)\n",
    "        outputs = outputs.permute(1,0,2) #(batch, maxlen, num_tokens)\n",
    "        outputs = outputs.permute(0,2,1) #(batch, num_tokens, maxlen)\n",
    "         \n",
    "        return outputs\n",
    "    \n",
    "    \n",
    "    def sample(self, words, size=20):\n",
    "        outputs=[]\n",
    "        \n",
    "        #describe initial input and initial random states  \n",
    "        income = torch.tensor(\n",
    "            [words.word2id(\"<BOS>\")]*size, dtype=torch.long, device=device).unsqueeze(1)  #(size, 1)\n",
    "        \n",
    "        h=torch.rand(1, size, latent_dim)*amp\n",
    "        c=torch.rand(1, size, latent_dim)*amp\n",
    "        states = (h.cuda(), c.cuda())        \n",
    "        \n",
    "        #回す(ほんとは<EOS>で止めるようにしたかった。)\n",
    "        for i in range(maxlen-1):     \n",
    "            embed = self.embed(income) #(size, 1, embedding_dim)\n",
    "            embed = embed.permute(1,0,2)  #(1, size, embedding_dim)\n",
    "            \n",
    "            outcome, hidden = self.lstm(embed, states)\n",
    "            outcome = self.linear(outcome)  #(1, size, num_tokens)\n",
    "            _, topi = torch.max(outcome, 2)\n",
    "            outputs.append(topi)\n",
    "            income = topi.permute(1,0)  #(size, 1)\n",
    "            \n",
    "            states = hidden\n",
    "            \n",
    "        outputs = torch.cat(outputs, dim=0).permute(1,0)  #(size, max_len)\n",
    "        \n",
    "        return outputs            "
   ]
  },
  {
   "cell_type": "code",
   "execution_count": 200,
   "metadata": {
    "collapsed": true
   },
   "outputs": [],
   "source": [
    "takken    = pd.read_csv(DATA_PATH+\"takken.csv\", encoding='utf-8')\n",
    "mondaishu = pd.read_csv(DATA_PATH+\"mondaishu.csv\", encoding='utf-8')\n",
    "nikken    = pd.read_csv(DATA_PATH+\"nikken.csv\", encoding='utf-8')\n",
    "legal_mind= pd.read_csv(DATA_PATH+\"legal_mind.csv\", encoding='utf-8')\n",
    "\n",
    "takken=takken[[\"Question\",\"Choice\"]]\n",
    "ocr=pd.concat([mondaishu, nikken, legal_mind], axis=0, ignore_index=True)\n",
    "ocr = ocr[[\"Wakati_Question\", \"Wakati_Choice\"]]\n",
    "ocr.columns = [\"Question\", \"Choice\"]\n",
    "\n",
    "m=MeCab.Tagger(\"-Owakati\")\n",
    "takken = takken.applymap(remove_symbol)\n",
    "ocr    = ocr.applymap(remove_symbol)\n",
    "takken = takken.applymap(m.parse)\n",
    "takken = pd.concat([takken, ocr], axis=0, ignore_index=True)\n",
    "takken = takken.applymap(remove_symbol)\n",
    "takken = takken.applymap(add_bos_eos)"
   ]
  },
  {
   "cell_type": "code",
   "execution_count": 201,
   "metadata": {
    "collapsed": false
   },
   "outputs": [
    {
     "data": {
      "text/plain": [
       "0       <BOS> 建設 業法 による 建設 業 の 許可 を 受け て いる A が 、 建築 請...\n",
       "1       <BOS> 地主 B が 、 都市 計画 法 の 用途 地域 内 の 所有 地 を 、 駐車...\n",
       "2       <BOS> 地主 C が 、 その 所有 地 に 自ら マンション を 建設 し た 後 、...\n",
       "3       <BOS> 農家 D が 、 その 所有 する 農地 を 宅地 に 転用 し 、 全体 を ...\n",
       "4       <BOS> A が 、 競売 により 取得 し た 複数 の 宅地 を 、 宅地 建物 取引...\n",
       "5       <BOS> A が 、 土地 区画 整理 事業 により 造成 さ れ た 甲 市 所有 の ...\n",
       "6       <BOS> A が 、 組合 方式 による 住宅 の 建築 という 名目 で 組合 参加 者...\n",
       "7       <BOS> A が 、 賃貸 物件 の 複数 の 所有 者 から 一括 し て 借上げ 、 ...\n",
       "8       <BOS> 建設 会社 A が 、 所有 宅地 を 10 区画 に 分割 し 、 宅地 建物...\n",
       "9       <BOS> 農業 協同 組合 C が 、 所有 宅地 を 10 区画 に 分割 し 、 倉庫...\n",
       "10      <BOS> 甲 県 住宅供給公社 D が 、 住宅 を 不 特定 多数 に 継続 し て 販...\n",
       "11      <BOS> 宅地 建物 取引 士 E が 、 E 名義 で 賃貸 物件 の 媒介 を 反復 ...\n",
       "12      <BOS> A が 、 その 所有 する 農地 を 区画 割り し て 宅地 に 転用 し ...\n",
       "13      <BOS> C が 、 その 所有 地 に マンション を 建築 し た うえ で 、 自ら...\n",
       "14      <BOS> E が 、 その 所有 する 都市 計画 法 の 用途 地域 内 の 農地 を ...\n",
       "15      <BOS> F が 、 甲 県 から その 所有 する 宅地 の 販売 の 代理 を 依頼 ...\n",
       "16      <BOS> A の 所有 する オフィス ビル を 賃借 し て いる B が 、 不 特定...\n",
       "17      <BOS> 建設 業 の 許可 を 受け て いる C が 、 建築 請負 契約 に 付随 ...\n",
       "18      <BOS> D が 共有 会員 制 の リゾート クラブ 会員 権 （ 宿泊 施設 等 の ...\n",
       "19      <BOS> 宅地 建物 取引 業者 で ある E （ 個人 ） が 死亡 し 、 その 相続...\n",
       "20      <BOS> A が 、 競売 により 取得 し た 宅地 を 10 区画 に 分割 し 、 ...\n",
       "21      <BOS> B が 、 自己 所有 の 宅地 に 自ら 貸主 と なる 賃貸 マンション を...\n",
       "22      <BOS> 破産 管財 人 が 、 破産 財団 の 換価 の ため に 自ら 売主 と なっ...\n",
       "23      <BOS> 不 特定 多数 の 者 に対し 、 建設 業者 F が 、 建物 の 建設 工事...\n",
       "24      <BOS> 農地 所有 者 が 、 その 所有 する 農地 を 宅地 に 転用 し て 売却...\n",
       "25      <BOS> 他人 の 所有 する 複数 の 建物 を 借り上げ 、 その 建物 を 自ら 貸...\n",
       "26      <BOS> 破産 管財 人 が 、 破産 財団 の 換価 の ため に 自ら 売主 と なり...\n",
       "27      <BOS> 信託 業法 第 ３ 条 の 免許 を 受け た 信託 会社 が 宅地 建物 取引...\n",
       "28      <BOS> 宅地 建物 取引 業 を 営も う と する 者 は 、 同 一 県内 に ２ ...\n",
       "29      <BOS> A が 、 B 社 が 甲 県 に 所有 する 1 棟 の マンション （ 20...\n",
       "                              ...                        \n",
       "9412    <BOS> A は 、 甲 所有 の 居住 用 建物 を 1 月 当たり の 借 賃 15 ...\n",
       "9413    <BOS> A は 、 甲 所有 の 宅地 を 保証 金 ( 乙 の 退去 時 に 乙 に ...\n",
       "9414    <BOS> A は 、 正当 な 理由 が ある 場合 で なけれ ば 、 その 業務 上 ...\n",
       "9415    <BOS> A が 、 乙 県 の 区域 内 における 業務 に関し て 乙 県知事 から ...\n",
       "9416    <BOS> A が 、 宅地 建物 取引 業者 B の 媒介 により C と 事業 用 建物...\n",
       "9417    <BOS> A が 、 宅地 の 所有 者 D から その 宅地 の 売買 の 媒介 を 依...\n",
       "9418    <BOS> 宅地 建物 取引 業者 は 、 売主 の 代理人 と し て 宅地 建物 取引 ...\n",
       "9419    <BOS> 宅地 建物 取引 業者 は 、 一部 の 住宅 は 住宅 販売 暇 抗 担保 保...\n",
       "9420    <BOS> 宅地 建物 取引 業者 は 、 新築 住宅 の 買主 に対し 、 新築 住宅 の...\n",
       "9421    <BOS> 宅地 建物 取引 業者 が 保険 法人 と 締結 し た 保険 契約 が 資力 ...\n",
       "9422    <BOS> 政府 は 、 国会 の 議決 を 経 た 金額 の 範囲 内 において 、 機構...\n",
       "9423    <BOS> 機構 は 、 国 及び 地方 公共 団体 が 行う 良好 な 居住 環境 を 整...\n",
       "9424    <BOS> 機構 は 、 業務 の 委託 を 受け た 者 に対し 、 その 委託 を 受け...\n",
       "9425    <BOS> 災害 により 、 専ら 商業 の 用 に 供する 建築 物 が 滅失 し た 場...\n",
       "9426    <BOS> 新築 分譲 マンション の 広告 に 徒歩 による 所要 時間 について 記載 ...\n",
       "9427    <BOS> 新築 分譲 マンション の 広告 に 新設 予定 の 駅 について 記載 する ...\n",
       "9428    <BOS> 別荘 地 の 販売 広告 において 、 当該 物件 が 海 ( 海岸 )、 湖沼...\n",
       "9429    <BOS> 新聞 広告 や 新聞 折込 チラシ において 、 客観 的 、 具体 的 な 事...\n",
       "9430    <BOS> 平成 28 年 地価 公示 ( 平成 28 年 3 月 公表 ) に よれ ば ...\n",
       "9431    <BOS> 公益 財団 法人 不動産 流通 推進 センター の ホームページ 「 指定 流通...\n",
       "9432    <BOS> 国土 交通省 ホームページ 「 平成 26 年度 宅地 建物 取引 業法 の 施...\n",
       "9433    <BOS> 建築 着工 統計 ( 平成 28 年 1 月 29 日 公表 ) に よれ ば ...\n",
       "9434    <BOS> 宅地 を 選定 する にあたり 、 大 縮尺 の 地形 図 や 空中 写真 を ...\n",
       "9435    <BOS> 自然 堤防 は 、 主 に 砂 や 小 礁 から なり 、 排水 性 が よく ...\n",
       "9436    <BOS> 谷 出口 に 広がる 扇状地 は 、 地盤 は 堅固 で は ない が 、 土石...\n",
       "9437    <BOS> 台地 は 、 一般 に 水はけ も よく 、 地盤 が 安定 し て いる こと...\n",
       "9438    <BOS> 木材 に 一定 の 力 を かけ た とき の 圧縮 に対する 強度 は 、 繊...\n",
       "9439    <BOS> 鉄骨 鉄筋コンクリート 造 は 、 耐火 性 が 高い こと に 加え 、 強度...\n",
       "9440    <BOS> 木造 建築 物 に 用いる 木材 は 、 一般 的 に 、 湿潤 状態 に 比べ...\n",
       "9441    <BOS> 鉄 は 、 炭素 含有 量 が 少ない ほど 、 引張り 強 さ 及び 硬 さ ...\n",
       "Name: Choice, Length: 9442, dtype: object"
      ]
     },
     "execution_count": 201,
     "metadata": {},
     "output_type": "execute_result"
    }
   ],
   "source": [
    "takken=takken[\"Choice\"]\n",
    "takken"
   ]
  },
  {
   "cell_type": "code",
   "execution_count": 202,
   "metadata": {
    "collapsed": true
   },
   "outputs": [],
   "source": [
    "words=Vocab()\n",
    "for sent in takken:\n",
    "    for word in sent.split():\n",
    "        words.add(word)"
   ]
  },
  {
   "cell_type": "code",
   "execution_count": 203,
   "metadata": {
    "collapsed": true
   },
   "outputs": [],
   "source": [
    "num_tokens=words.size"
   ]
  },
  {
   "cell_type": "code",
   "execution_count": 204,
   "metadata": {
    "collapsed": true
   },
   "outputs": [],
   "source": [
    "word2vec = Word2Vec.load(\"../wiki_textbook/text_wiki_model\")\n",
    "word2vec_size = 200\n",
    "embedding_dim = word2vec_size\n",
    "embedding_matrix = np.random.uniform(low=-0.1, high=0.1, size=(num_tokens, word2vec_size))"
   ]
  },
  {
   "cell_type": "code",
   "execution_count": 205,
   "metadata": {
    "collapsed": false
   },
   "outputs": [
    {
     "name": "stderr",
     "output_type": "stream",
     "text": [
      "/home/develop/.pyenv/versions/anaconda3-5.0.0/lib/python3.6/site-packages/ipykernel_launcher.py:5: DeprecationWarning: Call to deprecated `__getitem__` (Method will be removed in 4.0.0, use self.wv.__getitem__() instead).\n",
      "  \"\"\"\n"
     ]
    }
   ],
   "source": [
    "unknowns=set()\n",
    "\n",
    "for i,word in enumerate(words):\n",
    "    try:\n",
    "        embedding_matrix[i] = word2vec[word]\n",
    "    except KeyError:\n",
    "        unknowns.add(word)\n",
    "        \n",
    "embedding_matrix[0] = np.zeros((word2vec_size, ))\n",
    "\n",
    "embedding_matrix = embedding_matrix.astype('float32')"
   ]
  },
  {
   "cell_type": "code",
   "execution_count": 206,
   "metadata": {
    "collapsed": false
   },
   "outputs": [
    {
     "data": {
      "text/plain": [
       "{'1239000',\n",
       " '151200',\n",
       " '1560000',\n",
       " '1660000',\n",
       " '1669500',\n",
       " '1680000',\n",
       " '1684800',\n",
       " '1720000',\n",
       " '1814400',\n",
       " '1944000',\n",
       " '2008800',\n",
       " '202400',\n",
       " '2073600',\n",
       " '2106000',\n",
       " '2200000',\n",
       " '27200',\n",
       " '302400',\n",
       " '3440000',\n",
       " '70200',\n",
       " '97200',\n",
       " 'Discounted',\n",
       " 'DiscountedCashFlow',\n",
       " 'アンカーボルト',\n",
       " '代払い',\n",
       " '備え付けれ',\n",
       " '充てれ',\n",
       " '切土',\n",
       " '却等',\n",
       " '換資',\n",
       " '立ち入ろ',\n",
       " '約定金利',\n",
       " '該借',\n",
       " '３4'}"
      ]
     },
     "execution_count": 206,
     "metadata": {},
     "output_type": "execute_result"
    }
   ],
   "source": [
    "unknowns.remove(\"<BOS>\")\n",
    "unknowns.remove(\"<EOS>\")\n",
    "unknowns.remove(\"<UNK>\")\n",
    "unknowns.remove(\"<PAD>\")\n",
    "unknowns"
   ]
  },
  {
   "cell_type": "code",
   "execution_count": 207,
   "metadata": {
    "collapsed": true
   },
   "outputs": [],
   "source": [
    "datasize = len(takken)"
   ]
  },
  {
   "cell_type": "code",
   "execution_count": 208,
   "metadata": {
    "collapsed": true
   },
   "outputs": [],
   "source": [
    "maxlen=0\n",
    "for sent in takken:\n",
    "    length= len(sent.split())\n",
    "    if length>maxlen:\n",
    "        maxlen=length"
   ]
  },
  {
   "cell_type": "code",
   "execution_count": 209,
   "metadata": {
    "collapsed": false
   },
   "outputs": [
    {
     "data": {
      "text/plain": [
       "147"
      ]
     },
     "execution_count": 209,
     "metadata": {},
     "output_type": "execute_result"
    }
   ],
   "source": [
    "#<BOS>付き\n",
    "maxlen"
   ]
  },
  {
   "cell_type": "code",
   "execution_count": 210,
   "metadata": {
    "collapsed": true
   },
   "outputs": [],
   "source": [
    "inputs=np.zeros((datasize, maxlen), dtype='int32')"
   ]
  },
  {
   "cell_type": "code",
   "execution_count": 211,
   "metadata": {
    "collapsed": true
   },
   "outputs": [],
   "source": [
    "for i,sent in enumerate(takken):\n",
    "    for j,word in enumerate(sent.split()):\n",
    "        if word in unknowns:\n",
    "            word=\"<UNK>\"\n",
    "        inputs[i][j]=words.word2id(word)"
   ]
  },
  {
   "cell_type": "code",
   "execution_count": 213,
   "metadata": {
    "collapsed": true
   },
   "outputs": [],
   "source": [
    "criterion=nn.CrossEntropyLoss(ignore_index=0) \n",
    "latent_dim=512\n",
    "batch_size=32\n",
    "epochs = 28"
   ]
  },
  {
   "cell_type": "code",
   "execution_count": 214,
   "metadata": {
    "collapsed": false
   },
   "outputs": [
    {
     "data": {
      "text/plain": [
       "5003"
      ]
     },
     "execution_count": 214,
     "metadata": {},
     "output_type": "execute_result"
    }
   ],
   "source": [
    "embedding_matrix.shape[0]"
   ]
  },
  {
   "cell_type": "code",
   "execution_count": 220,
   "metadata": {
    "collapsed": false
   },
   "outputs": [
    {
     "name": "stdout",
     "output_type": "stream",
     "text": [
      "Epoch:0 Batch:295/295 Loss:3.8259 Time:0m13.7s\n",
      "Epoch:1 Batch:295/295 Loss:2.6911 Time:0m13.7s\n",
      "Epoch:2 Batch:295/295 Loss:2.2790 Time:0m13.7s\n",
      "Epoch:3 Batch:295/295 Loss:2.0175 Time:0m13.8s\n",
      "Epoch:4 Batch:295/295 Loss:1.8248 Time:0m13.8s\n",
      "Epoch:5 Batch:295/295 Loss:1.6679 Time:0m13.8s\n",
      "Epoch:6 Batch:295/295 Loss:1.5376 Time:0m13.8s\n",
      "Epoch:7 Batch:295/295 Loss:1.4256 Time:0m13.8s\n",
      "Epoch:8 Batch:295/295 Loss:1.3265 Time:0m13.8s\n",
      "Epoch:9 Batch:295/295 Loss:1.2421 Time:0m13.8s\n",
      "Epoch:10 Batch:295/295 Loss:1.1657 Time:0m13.8s\n",
      "Epoch:11 Batch:295/295 Loss:1.0998 Time:0m13.8s\n",
      "Epoch:12 Batch:295/295 Loss:1.0389 Time:0m13.8s\n",
      "Epoch:13 Batch:295/295 Loss:0.9828 Time:0m13.8s\n",
      "Epoch:14 Batch:295/295 Loss:0.9323 Time:0m13.8s\n",
      "Epoch:15 Batch:295/295 Loss:0.8858 Time:0m13.8s\n",
      "Epoch:16 Batch:295/295 Loss:0.8410 Time:0m13.8s\n",
      "Epoch:17 Batch:295/295 Loss:0.8002 Time:0m13.8s\n",
      "Epoch:18 Batch:295/295 Loss:0.7644 Time:0m13.8s\n",
      "Epoch:19 Batch:295/295 Loss:0.7310 Time:0m13.8s\n",
      "Epoch:20 Batch:295/295 Loss:0.6998 Time:0m13.8s\n",
      "Epoch:21 Batch:295/295 Loss:0.6716 Time:0m13.8s\n",
      "Epoch:22 Batch:295/295 Loss:0.6454 Time:0m13.8s\n",
      "Epoch:23 Batch:295/295 Loss:0.6201 Time:0m13.8s\n",
      "Epoch:24 Batch:295/295 Loss:0.5974 Time:0m13.8s\n",
      "Epoch:25 Batch:295/295 Loss:0.5758 Time:0m13.8s\n",
      "Epoch:26 Batch:295/295 Loss:0.5540 Time:0m13.8s\n",
      "Epoch:27 Batch:295/295 Loss:0.5342 Time:0m13.8s\n"
     ]
    }
   ],
   "source": [
    "model=Rnn(latent_dim, embedding_matrix).to(device)\n",
    "dataloader = DataLoader(inputs)\n",
    "losses = trainIters(model, criterion, dataloader, words)"
   ]
  },
  {
   "cell_type": "code",
   "execution_count": 221,
   "metadata": {
    "collapsed": false
   },
   "outputs": [
    {
     "name": "stdout",
     "output_type": "stream",
     "text": [
      "A が 、 宅地 建物 取引 業者 で ある B と 売買 契約 を 締結 し た 場合 、 A は 、 B の 手付 金 を 受領 し た 後 に 、 手付 金 と し て 2 500 万 円 を 受領 する こと が できる 。 \n",
      "\n",
      "A が 、 乙 県知事 に 登録 の 移転 の 申請 とともに 宅地 建物 取引 士 証 の 交付 の 申請 を し た とき は 、 新た な 登録 を 受け て い ない 聞 について は 、 乙 県知事 から 登録 を 消 除 さ れる こと は ない 。 \n",
      "\n",
      "A が 、 宅地 の 所有 者 D から 当該 宅地 の 売買 契約 を 締結 し た 場合 、 A は 、 保全 措置 を 講じ なけれ ば なら ない 。 \n",
      "\n",
      "A が 、 宅地 建物 取引 業者 で ある B と 売買 契約 を 締結 し た 場合 、 A は 、 B の 手付 金 を 受領 し た 後 に 、 手付 金 と し て 2 500 万 円 を 受領 する こと が できる 。 \n",
      "\n",
      "A が 、 宅地 建物 取引 業者 で ある B と 売買 契約 を 締結 し た 場合 、 A は 、 宅地 建物 取引 業法 第 34 条 の 2 の 規定 に 基づく 手付 金 等 の 保全 措置 を 講じる こと なく 、 宅地 建物 取引 業法 第 41 条 の 2 に 規定 する 手付 金 等 の 保全 措置 を 講じる こと なく 手付 金 と し て 2 000 万 円 を 受領 する こと が できる 。 \n",
      "\n",
      "A が 、 宅地 建物 取引 業法 第 41 条 の 2 に 規定 する 手付 金 等 の 保全 措置 を 講じ た うえ で 、 当該 土地 に関する 権利 の 移転 の 登記 に は 適用 さ れ ない 。 \n",
      "\n",
      "A が 、 宅地 建物 取引 業者 で ある B と 売買 契約 を 締結 し た 場合 、 A は 、 B の 手付 金 を 受領 し た 後 に 、 手付 金 と し て 2 500 万 円 を 受領 する こと が できる 。 \n",
      "\n",
      "A が 、 宅地 建物 取引 業者 で ある B と 売買 契約 を 締結 し た 場合 、 A は 、 B の 手付 金 を 受領 し た 後 に 手付 金 全額 の 返還 を 求める こと が できる 。 \n",
      "\n",
      "A が 、 宅地 の 所有 者 D から の 申出 が あっ た 場合 で 、 その後 B が 甲 土地 を C に 売却 し て C が 甲 土地 の 所有 権 移転 登記 を し た とき は 、 A は 、 C に対し 、 甲地 の 所有 権 を 対抗 する こと が できる 。 \n",
      "\n",
      "A が 、 宅地 の 所有 者 D から の 申出 が あっ た 場合 で 、 その後 B が 甲 土地 を C に 売却 し て C が 甲 土地 の 所有 権 移転 登記 を し た とき は 、 A は 、 C に対し 、 甲地 の 所有 権 を 対抗 する こと が できる 。 \n",
      "\n",
      "A が 、 宅地 建物 取引 業者 で ある B と 売買 契約 を 締結 し た 場合 、 A は 、 B の 手付 金 を 受領 し た 後 に 、 手付 金 と し て 2 500 万 円 を 受領 する こと が できる 。 \n",
      "\n",
      "A が 、 宅地 建物 取引 業者 で ある B と 売買 契約 を 締結 し た 場合 、 A は 、 宅地 建物 取引 業法 第 34 条 の 2 の 規定 に 基づく 手付 金 等 の 保全 措置 を 講じる こと なく 、 宅地 建物 取引 業法 第 41 条 の 2 に 規定 する 手付 金 等 の 保全 措置 を 講じる こと なく 手付 金 と し て 2 000 万 円 を 受領 する こと が できる 。 \n",
      "\n",
      "A が 、 宅地 建物 取引 業者 で ある B と 売買 契約 を 締結 し た 場合 、 A は 、 B の 手付 金 を 受領 し た 後 に 手付 金 全額 の 返還 を 求める こと が できる 。 \n",
      "\n",
      "A が 、 宅地 の 所有 者 D から の 申出 が あっ た 場合 、 A は 、 B の 同意 を 得れ ば 、 宅地 建物 取引 業法 第 35 条 の 規定 に 基づく 重要 事項 の 説明 を 省略 する こと が できる 。 \n",
      "\n",
      "A は 、 B の 債務 不履行 を 理由 と し て 代金 の 支払い を 拒絶 する こと が でき なかっ た と し て も 、 手付 の 額 を 受領 し た 後 も 、 A が その 土地 の 引渡し を 完了 し た 時 から 10 年間 は 、 損害 賠償 の 請求 を する こと は でき ない 。 \n",
      "\n",
      "A が 、 宅地 建物 取引 業法 第 35 条 の 規定 による 重要 事項 の 説明 を する とき に 、 宅地 建物 取引 業法 の 規定 に 違反 し た とき でも 、 罰金 刑 に 処せ られる こと が ある 。 \n",
      "\n",
      "A が 、 宅地 建物 取引 業者 で ある B と 売買 契約 を 締結 し た 場合 、 A は 、 宅地 建物 取引 業法 第 34 条 の 2 の 規定 に 基づく 手付 金 等 の 保全 措置 を 講じる こと なく 宅地 建物 取引 業者 で ある とき は 、 A は 、 宅地 建物 取引 業法 第 35 条 の 規定 による 重要 事項 の 説明 を する こと が できる 。 \n",
      "\n",
      "A が 、 宅地 の 所有 者 D から 当該 宅地 を 取得 する 場合 、 取得 する 農地 の 面積 が 2 アール で ある とき は 、 法 第 5 条 第 1 項 の 許可 を 受ける 必要 が ある 。 \n",
      "\n",
      "A が 、 宅地 建物 取引 業者 で ある B と 売買 契約 を 締結 し た 場合 、 A は 、 B の 手付 金 を 受領 し た 後 に 、 手付 金 と し て 2 500 万 円 を 受領 する こと が できる 。 \n",
      "\n",
      "A が 、 宅地 建物 取引 業者 で ある B と 、 建築 工事 完了 後 の 建物 について 売買 契約 を 締結 し た うえ で 、 当該 建物 について C と 売買 契約 を 締結 し た 。 \n",
      "\n",
      "A が 、 宅地 の 所有 者 D から 当該 宅地 を 取得 する 場合 、 取得 する 農地 の 面積 が 2 アール で ある とき は 、 法 第 5 条 第 1 項 の 許可 を 受ける 必要 が ある 。 \n",
      "\n",
      "A が 、 宅地 建物 取引 業者 で ある B と 、 建築 工事 完了 後 の 建物 について 売買 契約 を 締結 し た 場合 、 A は 、 保全 措置 を 講じる 必要 は ない 。 \n",
      "\n",
      "A が 、 B と の 間 に 専任 媒介 契約 を 締結 し 、 売買 契約 を 成立 さ せ た とき は 、 A は 、 遅滞 なく 、 甲 県知事 に 変更 の 登録 を 申請 し なけれ ば なら ない 。 \n",
      "\n",
      "A が 、 宅地 建物 取引 業者 で ある B と 売買 契約 を 締結 し た 場合 、 A は 、 B の 手付 金 を 受領 し た 後 に 手付 金 全額 の 返還 を 求める こと が できる 。 \n",
      "\n",
      "A が 、 宅地 建物 取引 業法 第 35 条 の 規定 による 重要 事項 の 説明 を する とき に 、 宅地 建物 取引 業法 の 規定 に 違反 し た とき でも 、 罰金 刑 に 処せ られる こと が ある 。 \n",
      "\n",
      "A が 、 宅地 建物 取引 業者 で ある B と 売買 契約 を 締結 し た 場合 、 A は 、 B の 手付 を 放棄 し て 契約 を 解除 する こと が できる が 、 この 売買 契約 を 解除 する こと は でき ない 。 \n",
      "\n",
      "A が 、 宅地 の 所有 者 D から 当該 宅地 を 取得 する 場合 、 D は 、 免許 を 受ける 必要 が ある 。 \n",
      "\n",
      "A が 、 宅地 建物 取引 業者 で ある B と 売買 契約 を 締結 し た 場合 、 A は 、 B の 手付 金 を 受領 し た 後 に 手付 金 全額 の 返還 を 求める こと が できる が 、 その 際 に 受領 する こと は でき ない 。 \n",
      "\n",
      "A が 、 宅地 建物 取引 業者 で ある B と 売買 契約 を 締結 し た 場合 、 A は 、 B の 手付 金 を 受領 し た 後 に 、 手付 金 と し て 2 500 万 円 を 受領 する こと が できる 。 \n",
      "\n",
      "A が 、 宅地 の 所有 者 D から の 申出 が あっ た 場合 、 A は 、 B の 同意 が なく て も 、 免許 を 受ける こと が できる 。 \n",
      "\n",
      "A が 、 宅地 建物 取引 業者 で ある B と 売買 契約 を 締結 し た 場合 、 A は 、 B の 手付 金 を 受領 し た 後 に 、 手付 金 と し て 2 500 万 円 を 受領 する こと が できる 。 \n",
      "\n",
      "A が 、 宅地 の 所有 者 D から 当該 宅地 の 売買 契約 を 締結 し た 場合 、 A は 、 保全 措置 を 講じ なけれ ば 残 代金 を 受領 する こと が でき ない 。 \n",
      "\n",
      "A が 、 宅地 建物 取引 業者 で ある B と 売買 契約 を 締結 し た 場合 、 A は 、 B の 手付 金 を 受領 し た 後 に 、 手付 金 と し て 2 500 万 円 を 受領 する こと が できる 。 \n",
      "\n",
      "A が 、 宅地 の 所有 者 D から の 申出 が あっ た 場合 、 A は 、 B の 同意 を 得れ ば 、 宅地 建物 取引 業法 第 35 条 の 規定 に 基づく 重要 事項 の 説明 を 省略 する こと が できる 。 \n",
      "\n",
      "A が 、 宅地 建物 取引 業者 で ある B と 売買 契約 を 締結 し た 場合 、 A は 、 B の 手付 金 を 受領 し た 後 に 手付 金 全額 の 返還 を 求める こと が できる が 、 その 際 に 受領 する こと は でき ない 。 \n",
      "\n",
      "A が 、 宅地 建物 取引 業者 で ある B と 売買 契約 を 締結 し た 場合 、 A は 、 B の 手付 金 を 受領 し た 後 に 手付 金 全額 の 返還 を 求める こと が できる が 、 その 際 に 受領 する こと は でき ない 。 \n",
      "\n",
      "A が 、 宅地 の 所有 者 D から の 申出 が あっ た 場合 、 D は 、 その 所有 権 を 取得 する こと が でき ない 。 \n",
      "\n",
      "A が 、 宅地 の 所有 者 D から 当該 宅地 を 取得 する 場合 、 D は 、 免許 を 受ける 必要 が ある 。 \n",
      "\n",
      "A が 、 宅地 建物 取引 業者 で ある B と 売買 契約 を 締結 し た 場合 、 A は 、 B の 承諾 を 得れ ば 、 宅地 建物 取引 業法 第 34 条 の 2 の 規定 に 基づく 手付 金 等 の 保全 措置 を 講じる こと なく 宅地 建物 取引 業者 で ある とき は 、 A は 、 宅地 建物 取引 業法 第 35 条 の 規定 による 重要 事項 の 説明 を する こと が できる 。 \n",
      "\n",
      "A が 、 乙 県 の 区域 内 の 業務 に関し 乙 県知事 から 受け た 業務 停止 の 処分 に 違反 し た とき 、 乙 県知事 から 事務 禁止 処分 を 受け た とき は 、 A は 、 遅滞 なく 、 乙 県知事 に 登録 を し て いる もの と みなさ れる 。 \n",
      "\n",
      "A が 、 宅地 建物 取引 業者 で ある B と 売買 契約 を 締結 し た 場合 、 A は 、 宅地 建物 取引 業法 第 34 条 の 2 の 規定 に 基づく 手付 金 等 の 保全 措置 を 講じる こと なく 宅地 建物 取引 業者 で ある とき は 、 A は 、 宅地 建物 取引 業法 第 35 条 の 規定 による 重要 事項 の 説明 を する こと が できる 。 \n",
      "\n",
      "A が 、 宅地 建物 取引 業者 で ある 買主 D と の 問 で 新築 住宅 の 売買 契約 を 締結 し た 場合 、 D は 、 事後 届出 を する 必要 は ない 。 \n",
      "\n",
      "A が 、 宅地 建物 取引 業者 で ある B と 売買 契約 を 締結 し た 場合 、 A は 、 宅地 建物 取引 業法 第 34 条 の 2 の 規定 に 基づく 手付 金 等 の 保全 措置 を 講じる こと なく 、 宅地 建物 取引 業法 第 41 条 の 2 に 規定 する 手付 金 等 の 保全 措置 を 講じる こと なく 手付 金 と し て 2 000 万 円 を 受領 する こと が できる 。 \n",
      "\n",
      "A が 、 宅地 建物 取引 業者 で ある B と 売買 契約 を 締結 し た 場合 、 A は 、 B の 手付 金 を 受領 し た 後 に 、 手付 金 と し て 2 500 万 円 を 受領 する こと が できる 。 \n",
      "\n",
      "A が 、 宅地 建物 取引 業者 で ある B と 売買 契約 を 締結 し た 場合 、 A は 、 宅地 建物 取引 業法 第 34 条 の 2 の 規定 に 基づく 手付 金 等 の 保全 措置 を 講じる こと なく 、 宅地 建物 取引 業法 第 41 条 の 2 に 規定 する 手付 金 等 の 保全 措置 を 講じる こと なく 手付 金 と し て 1 000 万 円 を 受領 する こと が できる 。 \n",
      "\n",
      "A が 、 宅地 の 所有 者 D から 当該 宅地 を 取得 する 場合 、 D は 、 免許 を 受ける 必要 が ある 。 \n",
      "\n",
      "A が 、 宅地 の 所有 者 D から の 申出 が あっ た 場合 で 、 その後 B が 甲 土地 を D に 売却 し て C が 甲 土地 の 所有 権 を 取得 し て も D に 不利 と なる お それ が ない に も かかわら ず 、 B が その 事情 を 知り つつ 、 C から その 土地 を 譲り受け た H \n",
      "\n",
      "A が 、 宅地 の 所有 者 D から 当該 宅地 の 売却 の 媒介 の 依頼 を 受け た 場合 で 、 D が 所有 する 土地 付 建物 の 売買 契約 を 締結 し た とき は 、 D の 詐欺 について 、 D は 、 その 所有 権 を 取得 する 。 」 と 主張 する こと が でき ない 。 \n",
      "\n",
      "A が 、 宅地 建物 取引 業者 で ある B と 売買 契約 を 締結 し た 場合 、 A は 、 宅地 建物 取引 業法 第 34 条 の 2 の 規定 に 基づく 手付 金 等 の 保全 措置 を 講じる こと なく 宅地 建物 取引 業 の 業務 を 行っ た 。 \n",
      "\n",
      "A が 、 宅地 の 所有 者 D から 当該 宅地 の 売却 の 媒介 の 依頼 を 受け た 場合 で 、 D が 所有 する 土地 付 建物 の 売買 契約 を 締結 し た とき は 、 D の 詐欺 について 、 D は 、 当該 売買 契約 を 取り消す こと が できる 。 \n",
      "\n"
     ]
    }
   ],
   "source": [
    "size=50\n",
    "\n",
    "generated = model.sample(words, size) #(size, maxlen)\n",
    "kinds = set()\n",
    "generated = generated.tolist()\n",
    "for sample in generated:\n",
    "    sent=\"\"\n",
    "    \n",
    "    for index in sample:\n",
    "        #When <EOS>, finish. This will make sense.\n",
    "        if index==words.word2id(\"<EOS>\"):\n",
    "            break       \n",
    "                \n",
    "        word = words.id2word(index)\n",
    "        sent =sent + word + \" \"\n",
    "        print(word, end=\" \")\n",
    "    \n",
    "    print(end=\"\\n\\n\")\n",
    "    kinds.add(sent)"
   ]
  },
  {
   "cell_type": "code",
   "execution_count": 222,
   "metadata": {
    "collapsed": false
   },
   "outputs": [
    {
     "name": "stdout",
     "output_type": "stream",
     "text": [
      "different kinds of sentences in 50 is 29\n"
     ]
    }
   ],
   "source": [
    "print(\"different kinds of sentences in %d is %d\" % (size, len(kinds)))"
   ]
  }
 ],
 "metadata": {
  "kernelspec": {
   "display_name": "Python [Root]",
   "language": "python",
   "name": "Python [Root]"
  },
  "language_info": {
   "codemirror_mode": {
    "name": "ipython",
    "version": 3
   },
   "file_extension": ".py",
   "mimetype": "text/x-python",
   "name": "python",
   "nbconvert_exporter": "python",
   "pygments_lexer": "ipython3",
   "version": "3.5.1"
  }
 },
 "nbformat": 4,
 "nbformat_minor": 2
}
