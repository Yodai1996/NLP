{
 "cells": [
  {
   "cell_type": "code",
   "execution_count": 85,
   "metadata": {
    "collapsed": true
   },
   "outputs": [],
   "source": [
    "import unicodedata\n",
    "import glob\n",
    "import xml.etree.ElementTree as ET\n",
    "import re\n",
    "import MeCab\n",
    "from sklearn.feature_extraction.text import TfidfVectorizer\n",
    "import numpy as np\n",
    "import pandas as pd\n",
    "import json\n",
    "import bisect"
   ]
  },
  {
   "cell_type": "code",
   "execution_count": 86,
   "metadata": {
    "collapsed": true
   },
   "outputs": [],
   "source": [
    "year = 2018\n",
    "csv_path='/home/develop/data/qualification/takken/kyozai/quizzes/quiz_%d.csv' % year\n",
    "xml_dir ='/home/develop/user/k_satou/textproc/%d/' % year\n",
    "xml_paths = sorted(glob.glob(xml_dir + '*Text*.xml'))"
   ]
  },
  {
   "cell_type": "code",
   "execution_count": 88,
   "metadata": {
    "collapsed": true
   },
   "outputs": [],
   "source": [
    "#前処理用の関数\n",
    "def preprocessing(text):\n",
    "    text = text.replace('\\n','')\n",
    "    text = text.replace(' ','')\n",
    "    text = text.replace('　','')\n",
    "    normalize(text)\n",
    "    return(text)\n",
    "\n",
    "def normalize(text):\n",
    "    text = normalize_unicode(text)\n",
    "    text = lower_text(text)\n",
    "    return text\n",
    "\n",
    "def lower_text(text):\n",
    "    #小文字に統一\n",
    "    return text.lower()\n",
    "\n",
    "def normalize_unicode(text, form='NFKC'):\n",
    "    normalized_text = unicodedata.normalize(form, text)\n",
    "    return normalized_text"
   ]
  },
  {
   "cell_type": "code",
   "execution_count": 97,
   "metadata": {
    "collapsed": true
   },
   "outputs": [],
   "source": [
    "def pickup_title(page2title, page):\n",
    "    start_pages = list(page2title.keys())\n",
    "    insert_index = bisect.bisect_right(start_pages, page)\n",
    "    start_page = start_pages[insert_index - 1]\n",
    "    return page2title[start_page]"
   ]
  },
  {
   "cell_type": "code",
   "execution_count": null,
   "metadata": {
    "collapsed": true
   },
   "outputs": [],
   "source": [
    "#全テキストから辞書作成\n",
    "path2page2title = {}\n",
    "title2keywords = {}\n",
    "title2numbers = {}\n",
    "number2titles = {}\n",
    "all_numbers = set()\n",
    "\n",
    "title2indexwords={}\n",
    "indexword2titles={}\n",
    "all_titles=set()\n",
    "\n",
    "for i, xml_path in enumerate(xml_paths):\n",
    "    tree = ET.parse(xml_paths[i])\n",
    "    root = tree.getroot()\n",
    "    parent_map = {c:p for p in root.iter() for c in p}\n",
    "    page2title={}\n",
    "    for c in parent_map:\n",
    "        if c.tag==\"text\":\n",
    "            title = parent_map[c].attrib[\"title\"]\n",
    "            page  = int(parent_map[c].attrib[\"from_page\"])\n",
    "            page2title[page]=title\n",
    "            text=preprocessing(c.text)\n",
    "            k = re.findall(r\"[0-9]+項\", text)\n",
    "            m = re.findall(r\"[0-9]+条\", text)\n",
    "            n = re.findall(r\"[0-9]+年\", text)\n",
    "            l = re.findall(r\"[0-9]+m\", text)\n",
    "            o = re.findall(r\"[0-9]+m2\", text)\n",
    "            p = re.findall(r\"[0-9]+階\", text)\n",
    "            q = re.findall(r\"[0-9]+日\", text)\n",
    "            title2numbers[title] = set(k) | set(m)|set(n)|set(l)|set(o)|set(p)|set(q)\n",
    "            #recursive\n",
    "            all_numbers = all_numbers | title2numbers[title]\n",
    "    path2page2title[xml_path] = page2title\n",
    "\n",
    "for number in all_numbers:\n",
    "    titles = [title for title, numbers in title2numbers.items() if number in numbers]\n",
    "    number2titles[number] = titles"
   ]
  },
  {
   "cell_type": "code",
   "execution_count": 90,
   "metadata": {
    "collapsed": true
   },
   "outputs": [],
   "source": [
    "f = open(\"./data/number2titles.json\", \"w\")\n",
    "json.dump(number2titles, f, ensure_ascii=False, indent=1)\n",
    "f.close()\n",
    "\n",
    "f = open(\"./data/path2page2title.json\", \"w\")\n",
    "json.dump(path2page2title, f, ensure_ascii=False, indent=1)\n",
    "f.close()\n",
    "\n",
    "\n",
    "t2n={}\n",
    "for k,v in title2numbers.items():\n",
    "    v=list(v)\n",
    "    t2n[k]=v\n",
    "    \n",
    "f = open(\"./data/title2numbers.json\", \"w\")\n",
    "json.dump(t2n, f, ensure_ascii=False, indent=1)\n",
    "f.close()"
   ]
  },
  {
   "cell_type": "code",
   "execution_count": 105,
   "metadata": {
    "collapsed": true
   },
   "outputs": [],
   "source": [
    "indices_csv=[\"index1.csv\", \"index2.csv\", \"index3.csv\",\"index4.csv\"]\n",
    "for i,csv_file in enumerate(indices_csv):\n",
    "    df=pd.read_csv(\"../index_data/\"+csv_file)\n",
    "    df=df[[\"nomble\", \"word\"]]\n",
    "    xml_path = xml_paths[i]\n",
    "    page2title = path2page2title[xml_path]\n",
    "    for j, word in enumerate(df[\"word\"].tolist()):\n",
    "        titles=set()\n",
    "        #there are some words that have 2 or more relative pages, so make list of pages\n",
    "        pages = df[\"nomble\"][j]\n",
    "        pages = str(pages).split(\",\")\n",
    "        for page in pages:\n",
    "            page=int(page)\n",
    "            title = pickup_title(page2title, page)\n",
    "            #print(title)\n",
    "            titles.add(title)\n",
    "            all_titles.add(title)\n",
    "        indexword2titles[word]=titles     \n",
    "\n",
    "        \n",
    "for title in all_titles:\n",
    "    words = [word for word, titles in indexword2titles.items() if title in titles]\n",
    "    title2indexwords[title]=words"
   ]
  },
  {
   "cell_type": "code",
   "execution_count": 106,
   "metadata": {
    "collapsed": false
   },
   "outputs": [
    {
     "data": {
      "text/plain": [
       "{'「事務所」の意義', '開業場所の決定─業務を行う場所の届出'}"
      ]
     },
     "execution_count": 106,
     "metadata": {},
     "output_type": "execute_result"
    }
   ],
   "source": [
    "indexword2titles[\"事務所\"]"
   ]
  },
  {
   "cell_type": "code",
   "execution_count": 108,
   "metadata": {
    "collapsed": false
   },
   "outputs": [
    {
     "data": {
      "text/plain": [
       "['使用人', '事務所', '支店', '本店']"
      ]
     },
     "execution_count": 108,
     "metadata": {},
     "output_type": "execute_result"
    }
   ],
   "source": [
    "title2indexwords['「事務所」の意義']"
   ]
  },
  {
   "cell_type": "code",
   "execution_count": 109,
   "metadata": {
    "collapsed": true
   },
   "outputs": [],
   "source": [
    "f = open(\"./data/title2indexwords.json\", \"w\")\n",
    "json.dump(title2indexwords, f, ensure_ascii=False, indent=1)\n",
    "f.close()"
   ]
  }
 ],
 "metadata": {
  "anaconda-cloud": {},
  "kernelspec": {
   "display_name": "Python [Root]",
   "language": "python",
   "name": "Python [Root]"
  },
  "language_info": {
   "codemirror_mode": {
    "name": "ipython",
    "version": 3
   },
   "file_extension": ".py",
   "mimetype": "text/x-python",
   "name": "python",
   "nbconvert_exporter": "python",
   "pygments_lexer": "ipython3",
   "version": "3.5.1"
  }
 },
 "nbformat": 4,
 "nbformat_minor": 2
}
