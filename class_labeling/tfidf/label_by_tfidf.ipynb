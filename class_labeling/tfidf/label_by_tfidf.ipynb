{
 "cells": [
  {
   "cell_type": "code",
   "execution_count": 162,
   "metadata": {
    "collapsed": true
   },
   "outputs": [],
   "source": [
    "import glob\n",
    "import xml.etree.ElementTree as ET\n",
    "import re\n",
    "import MeCab\n",
    "from sklearn.feature_extraction.text import TfidfVectorizer\n",
    "import numpy as np\n",
    "import pandas as pd\n",
    "import json"
   ]
  },
  {
   "cell_type": "code",
   "execution_count": 266,
   "metadata": {
    "collapsed": true
   },
   "outputs": [],
   "source": [
    "tagger =MeCab.Tagger(\"-Ochasen\")\n",
    "year = 2018\n",
    "input_path='/home/develop/data/qualification/takken/kyozai/quizzes/quiz_%d.csv' % year\n",
    "xml_dir ='/home/develop/user/k_satou/textproc/%d/' % year\n",
    "\n",
    "#the size of feature words used in each chapter in textbook.\n",
    "extract_size = 40\n",
    "\n",
    "\n",
    "#this score means how high you will value numbers information \n",
    "#In the preprocess for tfidf, we delete information such as numbers\n",
    "#so if you want to use such information in order to make labeling with higher precision,\n",
    "#you should use the json data of title2numbers.\n",
    "use_number=True\n",
    "number_score=0.5\n",
    "\n",
    "#Same to index information, which is not used in tfidf only.\n",
    "#use title2indexwords.xml\n",
    "use_index=True\n",
    "index_score=0.5"
   ]
  },
  {
   "cell_type": "code",
   "execution_count": 267,
   "metadata": {
    "collapsed": true
   },
   "outputs": [],
   "source": [
    "def reshape(sentences):\n",
    "    sentences = [re.sub(' |\\u3000|_|　', ' ', sent) for sent in sentences]\n",
    "    return sentences\n",
    "\n",
    "def tokenize(sentence):\n",
    "    node=tagger.parse(sentence)\n",
    "    node=node.split(\"\\n\")\n",
    "    tokenized_sentence=[]\n",
    "    for s in node:\n",
    "        feature=s.split(\"\\t\")\n",
    "        if feature[0]==\"EOS\":\n",
    "            break\n",
    "        \n",
    "        #以下は，何を前処理として消すか，という話なので，工夫の余地あり.\n",
    "        #number is ignored\n",
    "        elif feature[3]==\"名詞-数\":\n",
    "            pass      \n",
    "        elif feature[3]==\"記号-空白\":\n",
    "            pass\n",
    "        elif feature[3]==\"助動詞\":\n",
    "            pass\n",
    "        elif feature[0]==\"-\":\n",
    "            pass\n",
    "        elif feature[0]==\"/\":\n",
    "            pass\n",
    "        elif feature[0]==\"▪\":\n",
    "            pass\n",
    "        elif feature[0]==\"I\":\n",
    "            pass\n",
    "        elif feature[0]==\"II\":\n",
    "            pass\n",
    "        elif feature[0]==\"III\":\n",
    "            pass\n",
    "        elif feature[0]==\"IV\":\n",
    "            pass\n",
    "        elif feature[0]==\"V\":\n",
    "            pass \n",
    "        elif feature[0]==\"VI\":\n",
    "            pass        \n",
    "        elif feature[0]==\"check\":\n",
    "            pass\n",
    "        elif feature[0]==\"さん\":\n",
    "            pass\n",
    "        elif feature[0]==\"こちら\":\n",
    "            pass\n",
    "        elif feature[0]==\"よう\":\n",
    "            pass        \n",
    "        elif feature[0]==\"ため\":\n",
    "            pass\n",
    "        elif feature[0]==\"かたち\":\n",
    "            pass     \n",
    "        elif feature[0]==\"こと\":\n",
    "            pass \n",
    "        elif '❶' in feature[0]:\n",
    "            pass\n",
    "        elif feature[0]==\"どおり\":\n",
    "            pass\n",
    "        #名詞以外の品詞については，重要度が低めなので取り除いてみた.\n",
    "        elif feature[3][0:2]!=\"名詞\":\n",
    "            pass\n",
    "        else:\n",
    "            tokenized_sentence.append(feature[0])\n",
    "    \n",
    "    #space区切りのstr型にする\n",
    "    tokenized_sentence = \" \".join(tokenized_sentence)\n",
    "    \n",
    "    return tokenized_sentence"
   ]
  },
  {
   "cell_type": "code",
   "execution_count": 282,
   "metadata": {
    "collapsed": true
   },
   "outputs": [],
   "source": [
    "def calculate(raw_input, input_dic, titles, title2keywords, use_number=use_number, use_index=use_index):\n",
    "\n",
    "    title2score = {}\n",
    "    for title in titles:\n",
    "        keyword2score = title2keywords[title]\n",
    "        total_score=0\n",
    "        \n",
    "        if use_number:\n",
    "            numbers = title2numbers[title]\n",
    "            for number in numbers:\n",
    "                if number in raw_input:\n",
    "                    total_score += number_score\n",
    "                    \n",
    "        if use_index:\n",
    "            if title in title2indexwords:\n",
    "                indices = title2indexwords[title]\n",
    "                for ind in indices:\n",
    "                    if ind in raw_input:\n",
    "                        total_score += index_score\n",
    "\n",
    "        for keyword, score in keyword2score.items():\n",
    "            if keyword in input_dic:\n",
    "                total_score += input_dic[keyword] * score\n",
    "                \n",
    "        title2score[title] = total_score\n",
    "        \n",
    "    #return only max\n",
    "    max_score=0\n",
    "    max_title=0\n",
    "    for title, score in title2score.items():\n",
    "        if score > max_score:\n",
    "            max_score = score\n",
    "            max_title = title\n",
    "            \n",
    "    return max_title, max_score  "
   ]
  },
  {
   "cell_type": "code",
   "execution_count": 268,
   "metadata": {
    "collapsed": false
   },
   "outputs": [
    {
     "data": {
      "text/plain": [
       "'明日 天気'"
      ]
     },
     "execution_count": 268,
     "metadata": {},
     "output_type": "execute_result"
    }
   ],
   "source": [
    "node=tokenize(\"明日いい天気になれ\")\n",
    "node"
   ]
  },
  {
   "cell_type": "code",
   "execution_count": 269,
   "metadata": {
    "collapsed": true
   },
   "outputs": [],
   "source": [
    "xmls = sorted(glob.glob(xml_dir + '*Text*.xml'))\n",
    "xml  = xmls[0]"
   ]
  },
  {
   "cell_type": "code",
   "execution_count": 270,
   "metadata": {
    "collapsed": true
   },
   "outputs": [],
   "source": [
    "title2page = {}\n",
    "title2keywords={}"
   ]
  },
  {
   "cell_type": "code",
   "execution_count": 271,
   "metadata": {
    "collapsed": true
   },
   "outputs": [],
   "source": [
    "tree = ET.parse(xml)\n",
    "root = tree.getroot()\n",
    "parent_map = {c:p for p in root.iter() for c in p}\n",
    "texts=[]\n",
    "for c in parent_map:\n",
    "    if c.tag==\"text\":\n",
    "        title = parent_map[c].attrib[\"title\"]\n",
    "        page  = int(parent_map[c].attrib[\"from_page\"])\n",
    "        title2page[title]=page\n",
    "        \n",
    "        text=c.text\n",
    "        processed_text = tokenize(text)\n",
    "        texts.append(processed_text)"
   ]
  },
  {
   "cell_type": "markdown",
   "metadata": {},
   "source": [
    "#####  carry out tdidf in textbook"
   ]
  },
  {
   "cell_type": "code",
   "execution_count": 272,
   "metadata": {
    "collapsed": true
   },
   "outputs": [],
   "source": [
    "vectorizer = TfidfVectorizer(use_idf=True)\n",
    "\n",
    "#2次元行列。（tfidfのスコアが中身）\n",
    "tfidf_matrix = vectorizer.fit_transform(texts)\n",
    "tfidf_matrix = tfidf_matrix.toarray()\n",
    "\n",
    "#各ラベル名（単語名）を入手\n",
    "terms = vectorizer.get_feature_names()\n",
    "\n",
    "#辞書にkeywordsとscoresを追加しよう\n",
    "for i,title in enumerate(title2page.keys()):\n",
    "    tfidf_array  = tfidf_matrix[i]\n",
    "    tfidf_scores = np.sort(tfidf_array)[-extract_size:][::-1].tolist()       \n",
    "    top_n_index  = tfidf_array.argsort()[-extract_size:][::-1]\n",
    "    words = [terms[index] for index in top_n_index]\n",
    "\n",
    "    #辞書を作成する.\n",
    "    word2score={}\n",
    "    for i,word in enumerate(words):\n",
    "        word2score[word]=tfidf_scores[i]\n",
    "        \n",
    "    #メタ辞書にこの辞書を追加する\n",
    "    title2keywords[title] = word2score"
   ]
  },
  {
   "cell_type": "markdown",
   "metadata": {},
   "source": [
    "##### Inputs"
   ]
  },
  {
   "cell_type": "code",
   "execution_count": 276,
   "metadata": {
    "collapsed": true
   },
   "outputs": [],
   "source": [
    "df=pd.read_csv(input_path)"
   ]
  },
  {
   "cell_type": "code",
   "execution_count": 278,
   "metadata": {
    "collapsed": false
   },
   "outputs": [
    {
     "data": {
      "text/plain": [
       "['基礎講座 宅建業法①[2018]',\n",
       " '基礎講座 宅建業法①[2018]',\n",
       " '基礎講座 宅建業法①[2018]',\n",
       " '基礎講座 宅建業法①[2018]',\n",
       " '基礎講座 宅建業法①[2018]',\n",
       " '基礎講座 宅建業法①[2018]',\n",
       " '基礎講座 宅建業法①[2018]',\n",
       " '基礎講座 宅建業法①[2018]',\n",
       " '基礎講座 宅建業法①[2018]',\n",
       " '基礎講座 宅建業法①[2018]',\n",
       " '基礎講座 宅建業法①[2018]',\n",
       " '基礎講座 宅建業法①[2018]',\n",
       " '基礎講座 宅建業法①[2018]',\n",
       " '基礎講座 宅建業法①[2018]',\n",
       " '基礎講座 宅建業法①[2018]',\n",
       " '基礎講座 宅建業法①[2018]',\n",
       " '基礎講座 宅建業法①[2018]',\n",
       " '基礎講座 宅建業法①[2018]',\n",
       " '基礎講座 宅建業法①[2018]',\n",
       " '基礎講座 宅建業法①[2018]']"
      ]
     },
     "execution_count": 278,
     "metadata": {},
     "output_type": "execute_result"
    }
   ],
   "source": [
    "df_extracted=df[\"問題文\"]+df[\"解説\"]\n",
    "inputs = df_extracted.tolist()\n",
    "courses= df[\"講座\"].tolist()\n",
    "\n",
    "courses = reshape(courses)\n",
    "courses"
   ]
  },
  {
   "cell_type": "markdown",
   "metadata": {},
   "source": [
    "##### 講座のコラムをもとに調べる項を限定する"
   ]
  },
  {
   "cell_type": "code",
   "execution_count": 279,
   "metadata": {
    "collapsed": false
   },
   "outputs": [
    {
     "data": {
      "text/plain": [
       "['基礎講座 宅建業法①',\n",
       " '基礎講座 宅建業法②',\n",
       " '基礎講座 法令上の制限①',\n",
       " '基礎講座 法令上の制限②',\n",
       " '基礎講座 その他の法令①',\n",
       " '基礎講座 権利関係①',\n",
       " '基礎講座 権利関係②',\n",
       " '基礎講座 権利関係③',\n",
       " '過去問講座 宅建業法③',\n",
       " '過去問講座 宅建業法④',\n",
       " '過去問講座 宅建業法⑤',\n",
       " '過去問講座 宅建業法⑥',\n",
       " '過去問講座 法令上の制限③',\n",
       " '過去問講座 法令上の制限④',\n",
       " '過去問講座 法令上の制限⑤',\n",
       " '過去問講座 その他の法令②',\n",
       " '過去問講座 権利関係④',\n",
       " '過去問講座 権利関係⑤']"
      ]
     },
     "execution_count": 279,
     "metadata": {},
     "output_type": "execute_result"
    }
   ],
   "source": [
    "dfr = pd.read_csv(\"./lesson2page.csv\")\n",
    "lessons = dfr[\"lesson\"].tolist()\n",
    "starts=dfr[\"page_start\"].tolist()\n",
    "ends  =dfr[\"page_end\"].tolist()\n",
    "\n",
    "lessons = reshape(lessons)\n",
    "lessons"
   ]
  },
  {
   "cell_type": "markdown",
   "metadata": {},
   "source": [
    "##### carry out tfidf also in inputs"
   ]
  },
  {
   "cell_type": "code",
   "execution_count": null,
   "metadata": {
    "collapsed": true
   },
   "outputs": [],
   "source": [
    "tfidf_inputs = [tokenize(sent) for sent in inputs]\n",
    "processed_inputs=[]\n",
    "\n",
    "#2次元行列。（tfidfのスコアが中身）\n",
    "tfidf_matrix = vectorizer.fit_transform(tfidf_inputs)\n",
    "tfidf_matrix = tfidf_matrix.toarray()\n",
    "\n",
    "#各ラベル名（単語名）を入手\n",
    "terms = vectorizer.get_feature_names()\n",
    "\n",
    "for i in range(len(tfidf_matrix)):\n",
    "    tfidf_array  = tfidf_matrix[i]\n",
    "    dic={}\n",
    "    for j,word in enumerate(terms):\n",
    "        if tfidf_array[j] > 0:\n",
    "            dic[word] = tfidf_array[j]\n",
    "    processed_inputs.append(dic)"
   ]
  },
  {
   "cell_type": "code",
   "execution_count": null,
   "metadata": {
    "collapsed": true
   },
   "outputs": [],
   "source": [
    "with open(\"./data/title2numbers.json\") as f:\n",
    "    title2numbers = json.load(f)\n",
    "f.close()\n",
    "\n",
    "with open(\"./data/title2indexwords.json\") as f:\n",
    "    title2indexwords = json.load(f)\n",
    "f.close()"
   ]
  },
  {
   "cell_type": "code",
   "execution_count": 285,
   "metadata": {
    "collapsed": false
   },
   "outputs": [
    {
     "name": "stdout",
     "output_type": "stream",
     "text": [
      "14 「宅地建物取引業」の意義\n",
      "14 「宅地建物取引業」の意義\n",
      "14 「宅地建物取引業」の意義\n",
      "14 「宅地建物取引業」の意義\n",
      "14 「宅地建物取引業」の意義\n",
      "38 物件の用意（宅地・建物の仕入れ）─媒介・代理契約の規制\n",
      "14 「宅地建物取引業」の意義\n",
      "14 「宅地建物取引業」の意義\n",
      "14 「宅地建物取引業」の意義\n",
      "48 広告宣伝─誇大広告の禁止\n",
      "82 手付金等の保全\n",
      "52 物件の案内・説明─重要事項の説明\n",
      "52 物件の案内・説明─重要事項の説明\n",
      "52 物件の案内・説明─重要事項の説明\n",
      "14 「宅地建物取引業」の意義\n",
      "66 契約書面（条書面）の交付\n",
      "14 「宅地建物取引業」の意義\n",
      "74 自己の所有に属しない物件の契約締結の制限\n",
      "14 「宅地建物取引業」の意義\n",
      "82 手付金等の保全\n"
     ]
    }
   ],
   "source": [
    "ans = []\n",
    "\n",
    "assert len(courses)==len(inputs)\n",
    "\n",
    "for i,course in enumerate(courses):\n",
    "    raw_input = inputs[i]\n",
    "    input_dic = processed_inputs[i]\n",
    "    for j,lesson in enumerate(lessons):\n",
    "        #↓一致したら，という気分\n",
    "        if lesson in course:\n",
    "            start = starts[j]\n",
    "            end   = ends[j]\n",
    "\n",
    "            related_titles=[]\n",
    "            for title,page in title2page.items():\n",
    "                #↓範囲指定の区切りが美しい，という前提の下\n",
    "                if start<=page and page<=end:\n",
    "                    related_titles.append(title)\n",
    "\n",
    "            best_title, best_score = calculate(raw_input, input_dic, related_titles, title2keywords)\n",
    "\n",
    "            #入力もtfidfしようか\n",
    "            ans.append(best_title)\n",
    "\n",
    "            break   \n",
    "            \n",
    "\n",
    "for title in ans:\n",
    "    print(title2page[title], end=\" \")\n",
    "    print(title)"
   ]
  }
 ],
 "metadata": {
  "kernelspec": {
   "display_name": "Python [Root]",
   "language": "python",
   "name": "Python [Root]"
  },
  "language_info": {
   "codemirror_mode": {
    "name": "ipython",
    "version": 3
   },
   "file_extension": ".py",
   "mimetype": "text/x-python",
   "name": "python",
   "nbconvert_exporter": "python",
   "pygments_lexer": "ipython3",
   "version": "3.5.1"
  }
 },
 "nbformat": 4,
 "nbformat_minor": 2
}
